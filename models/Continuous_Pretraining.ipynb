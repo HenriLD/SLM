{
  "nbformat": 4,
  "nbformat_minor": 0,
  "metadata": {
    "colab": {
      "provenance": [],
      "machine_shape": "hm",
      "gpuType": "A100"
    },
    "kernelspec": {
      "name": "python3",
      "display_name": "Python 3"
    },
    "language_info": {
      "name": "python"
    },
    "accelerator": "GPU"
  },
  "cells": [
    {
      "cell_type": "code",
      "source": [
        "!pip install datasets"
      ],
      "metadata": {
        "collapsed": true,
        "id": "vSDwSNbRucFp"
      },
      "execution_count": null,
      "outputs": []
    },
    {
      "cell_type": "code",
      "source": [
        "import os\n",
        "import torch\n",
        "from transformers import (\n",
        "    AutoTokenizer,\n",
        "    AutoModelForCausalLM,\n",
        "    Trainer,\n",
        "    TrainingArguments,\n",
        "    DataCollatorForLanguageModeling,\n",
        ")\n",
        "from datasets import load_dataset"
      ],
      "metadata": {
        "id": "CWW-yB2Lt4dl"
      },
      "execution_count": null,
      "outputs": []
    },
    {
      "cell_type": "code",
      "source": [
        "# Specify the model\n",
        "model_name_or_path = \"HuggingFaceFW/ablation-model-fineweb-v1\" #1.8B Model trained on fineweb\n",
        "\n",
        "# Load the pretrained model and tokenizer\n",
        "tokenizer = AutoTokenizer.from_pretrained(model_name_or_path)\n",
        "model = AutoModelForCausalLM.from_pretrained(model_name_or_path)\n",
        "tokenizer.pad_token = tokenizer.eos_token\n",
        "\n",
        "dataset = load_dataset(\"dmariko/init_data\", split = 'train')\n"
      ],
      "metadata": {
        "id": "M-EuyeWmt8sB"
      },
      "execution_count": null,
      "outputs": []
    },
    {
      "cell_type": "code",
      "source": [
        "torch.cuda.empty_cache()"
      ],
      "metadata": {
        "id": "83oQ1Z6y44Vi"
      },
      "execution_count": null,
      "outputs": []
    },
    {
      "cell_type": "code",
      "execution_count": null,
      "metadata": {
        "collapsed": true,
        "id": "Ng3vZZUPs1I3"
      },
      "outputs": [],
      "source": [
        "# Tokenization function for the dataset\n",
        "def tokenize_function(examples):\n",
        "    # Tokenize texts; adjust max_length as needed.\n",
        "    return tokenizer(examples[\"paragraph\"], truncation=True, max_length=1024)\n",
        "\n",
        "# Tokenize the dataset (batch processing is enabled for efficiency)\n",
        "tokenized_dataset = dataset.map(tokenize_function, batched=True, remove_columns=[\"paragraph\"])\n",
        "\n",
        "# Set dataset format to ensure proper tensor types\n",
        "tokenized_dataset.set_format(type='torch', columns=['input_ids', 'attention_mask'])\n",
        "\n",
        "# Filter out examples where tokenization produced an empty sequence\n",
        "tokenized_dataset = tokenized_dataset.filter(lambda x: len(x['input_ids']) > 0)\n",
        "\n",
        "class CustomDataCollator(DataCollatorForLanguageModeling):\n",
        "    def __call__(self, examples):\n",
        "        batch = super().__call__(examples)\n",
        "        # Explicitly cast input_ids and labels to torch.long\n",
        "        batch['input_ids'] = batch['input_ids'].long()\n",
        "        if 'labels' in batch:\n",
        "            batch['labels'] = batch['labels'].long()\n",
        "        return batch\n",
        "\n",
        "data_collator = CustomDataCollator(tokenizer=tokenizer, mlm=False)\n",
        "\n",
        "# Define training arguments; adjust these hyperparameters based on your needs\n",
        "training_args = TrainingArguments(\n",
        "    output_dir=\"./SLM_Pretraining_01\",\n",
        "    overwrite_output_dir=True,\n",
        "    num_train_epochs=1,                      # Number of training epochs\n",
        "    per_device_train_batch_size=2,           # Adjust based on your hardware\n",
        "    learning_rate=5e-5,\n",
        "    weight_decay=0.01,\n",
        "    save_steps=5000,                          # Save checkpoint every 500 steps\n",
        "    save_total_limit=2,                      # Only keep the 2 most recent checkpoints\n",
        "    prediction_loss_only=True,\n",
        ")\n",
        "\n",
        "# Initialize the Trainer with the model, data, and training configuration\n",
        "trainer = Trainer(\n",
        "    model=model,\n",
        "    args=training_args,\n",
        "    data_collator=data_collator,\n",
        "    train_dataset=tokenized_dataset,\n",
        ")\n",
        "\n"
      ]
    },
    {
      "cell_type": "code",
      "source": [
        "# Begin continual pre-training\n",
        "trainer.train()\n",
        "\n",
        "# Save the updated model and tokenizer for later use\n",
        "model.save_pretrained(\"./SLM_Pretraining_01\")\n",
        "tokenizer.save_pretrained(\"./SLM_Pretraining_01\")"
      ],
      "metadata": {
        "collapsed": true,
        "id": "BOO9B0BHuIdV"
      },
      "execution_count": null,
      "outputs": []
    }
  ]
}